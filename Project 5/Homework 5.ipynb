{
 "cells": [
  {
   "cell_type": "code",
   "execution_count": 142,
   "metadata": {},
   "outputs": [],
   "source": [
    "import tensorflow as tf"
   ]
  },
  {
   "cell_type": "code",
   "execution_count": 143,
   "metadata": {},
   "outputs": [],
   "source": [
    "import numpy as np\n",
    "import matplotlib.pyplot as plt\n",
    "import pandas as pd\n",
    "from sklearn.metrics import confusion_matrix\n",
    "from sklearn.model_selection import train_test_split"
   ]
  },
  {
   "cell_type": "code",
   "execution_count": 144,
   "metadata": {},
   "outputs": [],
   "source": [
    "fashion_mnist = tf.keras.datasets.fashion_mnist\n",
    "(X_train_full, y_train_full), (X_test, y_test) = fashion_mnist.load_data()"
   ]
  },
  {
   "cell_type": "code",
   "execution_count": 145,
   "metadata": {},
   "outputs": [],
   "source": [
    "X_valid = X_train_full[:5000]/255.0\n",
    "y_valid = y_train_full[:5000]\n",
    "X_train = X_train_full[5000:]/255.0\n",
    "y_train = y_train_full[5000:]\n",
    "X_test = X_test/255.0"
   ]
  },
  {
   "cell_type": "code",
   "execution_count": 146,
   "metadata": {},
   "outputs": [],
   "source": [
    "from functools import partial"
   ]
  },
  {
   "cell_type": "code",
   "execution_count": 147,
   "metadata": {},
   "outputs": [],
   "source": [
    "my_dense_layer = partial(tf.keras.layers.Dense, activation=\"softmax\", kernel_regularizer=tf.keras.regularizers.l2(0.0008))"
   ]
  },
  {
   "cell_type": "code",
   "execution_count": 148,
   "metadata": {},
   "outputs": [],
   "source": [
    "model = tf.keras.models.Sequential([\n",
    "    tf.keras.layers.Flatten(input_shape=[28,28]),\n",
    "    my_dense_layer(300,activation=None),\n",
    "    tf.keras.layers.PReLU(),\n",
    "    my_dense_layer(300,activation=None),\n",
    "    tf.keras.layers.PReLU(),\n",
    "    my_dense_layer(100,activation=None),\n",
    "    tf.keras.layers.PReLU(),\n",
    "    my_dense_layer(100,activation=None),\n",
    "    tf.keras.layers.PReLU(),\n",
    "    my_dense_layer(50,activation=None),\n",
    "    tf.keras.layers.ReLU(),\n",
    "    my_dense_layer(10)\n",
    "])"
   ]
  },
  {
   "cell_type": "code",
   "execution_count": 149,
   "metadata": {},
   "outputs": [],
   "source": [
    "def scheduler(epoch):\n",
    "    if epoch < 10:\n",
    "        return 0.0005\n",
    "    else:\n",
    "        return 0.0005*tf.math.exp(0.1*(10-epoch))"
   ]
  },
  {
   "cell_type": "code",
   "execution_count": 150,
   "metadata": {},
   "outputs": [],
   "source": [
    "model.compile(loss=\"sparse_categorical_crossentropy\",\n",
    "              optimizer=tf.keras.optimizers.Adam(),\n",
    "              metrics=[\"accuracy\"])"
   ]
  },
  {
   "cell_type": "code",
   "execution_count": 151,
   "metadata": {},
   "outputs": [
    {
     "name": "stdout",
     "output_type": "stream",
     "text": [
      "Train on 55000 samples, validate on 5000 samples\n",
      "Epoch 1/50\n",
      "55000/55000 [==============================] - 7s 120us/sample - loss: 0.9901 - accuracy: 0.8095 - val_loss: 0.7301 - val_accuracy: 0.8568\n",
      "Epoch 2/50\n",
      "55000/55000 [==============================] - 6s 107us/sample - loss: 0.6775 - accuracy: 0.8541 - val_loss: 0.5936 - val_accuracy: 0.8718\n",
      "Epoch 3/50\n",
      "55000/55000 [==============================] - 6s 108us/sample - loss: 0.5868 - accuracy: 0.8604 - val_loss: 0.5487 - val_accuracy: 0.8692\n",
      "Epoch 4/50\n",
      "55000/55000 [==============================] - 6s 108us/sample - loss: 0.5343 - accuracy: 0.8668 - val_loss: 0.5296 - val_accuracy: 0.8638\n",
      "Epoch 5/50\n",
      "55000/55000 [==============================] - 6s 109us/sample - loss: 0.5027 - accuracy: 0.8733 - val_loss: 0.4965 - val_accuracy: 0.8726\n",
      "Epoch 6/50\n",
      "55000/55000 [==============================] - 6s 107us/sample - loss: 0.4846 - accuracy: 0.8745 - val_loss: 0.4881 - val_accuracy: 0.8768\n",
      "Epoch 7/50\n",
      "55000/55000 [==============================] - 6s 110us/sample - loss: 0.4706 - accuracy: 0.8791 - val_loss: 0.4735 - val_accuracy: 0.8732\n",
      "Epoch 8/50\n",
      "55000/55000 [==============================] - 6s 116us/sample - loss: 0.4579 - accuracy: 0.8807 - val_loss: 0.4569 - val_accuracy: 0.8820\n",
      "Epoch 9/50\n",
      "55000/55000 [==============================] - 6s 112us/sample - loss: 0.4429 - accuracy: 0.8845 - val_loss: 0.4627 - val_accuracy: 0.8768\n",
      "Epoch 10/50\n",
      "55000/55000 [==============================] - 6s 109us/sample - loss: 0.4364 - accuracy: 0.8858 - val_loss: 0.4721 - val_accuracy: 0.8760\n",
      "Epoch 11/50\n",
      "55000/55000 [==============================] - 6s 110us/sample - loss: 0.4320 - accuracy: 0.8868 - val_loss: 0.4682 - val_accuracy: 0.8744\n",
      "Epoch 12/50\n",
      "55000/55000 [==============================] - 6s 109us/sample - loss: 0.4192 - accuracy: 0.8919 - val_loss: 0.4420 - val_accuracy: 0.8842\n",
      "Epoch 13/50\n",
      "55000/55000 [==============================] - 6s 112us/sample - loss: 0.4093 - accuracy: 0.8952 - val_loss: 0.4375 - val_accuracy: 0.8832\n",
      "Epoch 14/50\n",
      "55000/55000 [==============================] - 6s 113us/sample - loss: 0.4013 - accuracy: 0.8976 - val_loss: 0.4380 - val_accuracy: 0.8882\n",
      "Epoch 15/50\n",
      "55000/55000 [==============================] - 6s 113us/sample - loss: 0.3922 - accuracy: 0.9012 - val_loss: 0.4275 - val_accuracy: 0.8900\n",
      "Epoch 16/50\n",
      "55000/55000 [==============================] - 6s 106us/sample - loss: 0.3828 - accuracy: 0.9038 - val_loss: 0.4239 - val_accuracy: 0.8894\n",
      "Epoch 17/50\n",
      "55000/55000 [==============================] - 6s 109us/sample - loss: 0.3739 - accuracy: 0.9062 - val_loss: 0.4306 - val_accuracy: 0.8860\n",
      "Epoch 18/50\n",
      "55000/55000 [==============================] - 6s 110us/sample - loss: 0.3661 - accuracy: 0.9106 - val_loss: 0.4306 - val_accuracy: 0.8898\n",
      "Epoch 19/50\n",
      "55000/55000 [==============================] - 6s 108us/sample - loss: 0.3596 - accuracy: 0.9123 - val_loss: 0.4160 - val_accuracy: 0.8922\n",
      "Epoch 20/50\n",
      "55000/55000 [==============================] - 6s 110us/sample - loss: 0.3518 - accuracy: 0.9145 - val_loss: 0.4303 - val_accuracy: 0.8884\n",
      "Epoch 21/50\n",
      "55000/55000 [==============================] - 6s 107us/sample - loss: 0.3457 - accuracy: 0.9166 - val_loss: 0.4204 - val_accuracy: 0.8902\n",
      "Epoch 22/50\n",
      "55000/55000 [==============================] - 6s 113us/sample - loss: 0.3403 - accuracy: 0.9192 - val_loss: 0.4287 - val_accuracy: 0.8878\n",
      "Epoch 23/50\n",
      "55000/55000 [==============================] - 6s 114us/sample - loss: 0.3343 - accuracy: 0.9227 - val_loss: 0.4190 - val_accuracy: 0.8898\n",
      "Epoch 24/50\n",
      "55000/55000 [==============================] - 6s 111us/sample - loss: 0.3285 - accuracy: 0.9241 - val_loss: 0.4102 - val_accuracy: 0.8968\n",
      "Epoch 25/50\n",
      "55000/55000 [==============================] - 7s 121us/sample - loss: 0.3226 - accuracy: 0.9261 - val_loss: 0.4186 - val_accuracy: 0.8954\n",
      "Epoch 26/50\n",
      "55000/55000 [==============================] - 6s 109us/sample - loss: 0.3181 - accuracy: 0.9286 - val_loss: 0.4150 - val_accuracy: 0.8966\n",
      "Epoch 27/50\n",
      "55000/55000 [==============================] - 6s 109us/sample - loss: 0.3117 - accuracy: 0.9312 - val_loss: 0.4185 - val_accuracy: 0.8958\n",
      "Epoch 28/50\n",
      "55000/55000 [==============================] - 6s 107us/sample - loss: 0.3090 - accuracy: 0.9324 - val_loss: 0.4123 - val_accuracy: 0.8966\n",
      "Epoch 29/50\n",
      "55000/55000 [==============================] - 6s 106us/sample - loss: 0.3050 - accuracy: 0.9344 - val_loss: 0.4102 - val_accuracy: 0.8980\n",
      "Epoch 30/50\n",
      "55000/55000 [==============================] - 6s 107us/sample - loss: 0.3015 - accuracy: 0.9345 - val_loss: 0.4106 - val_accuracy: 0.8966\n",
      "Epoch 31/50\n",
      "55000/55000 [==============================] - 6s 107us/sample - loss: 0.2969 - accuracy: 0.9381 - val_loss: 0.4111 - val_accuracy: 0.8990\n",
      "Epoch 32/50\n",
      "55000/55000 [==============================] - 6s 110us/sample - loss: 0.2942 - accuracy: 0.9388 - val_loss: 0.4114 - val_accuracy: 0.9000\n",
      "Epoch 33/50\n",
      "55000/55000 [==============================] - 6s 109us/sample - loss: 0.2918 - accuracy: 0.9396 - val_loss: 0.4136 - val_accuracy: 0.8970\n",
      "Epoch 34/50\n",
      "55000/55000 [==============================] - 6s 109us/sample - loss: 0.2887 - accuracy: 0.9413 - val_loss: 0.4141 - val_accuracy: 0.8978\n",
      "Epoch 35/50\n",
      "55000/55000 [==============================] - 6s 112us/sample - loss: 0.2862 - accuracy: 0.9413 - val_loss: 0.4085 - val_accuracy: 0.9014\n",
      "Epoch 36/50\n",
      "55000/55000 [==============================] - 6s 108us/sample - loss: 0.2836 - accuracy: 0.9432 - val_loss: 0.4117 - val_accuracy: 0.8976\n",
      "Epoch 37/50\n",
      "55000/55000 [==============================] - 6s 110us/sample - loss: 0.2814 - accuracy: 0.9431 - val_loss: 0.4215 - val_accuracy: 0.8990\n",
      "Epoch 38/50\n",
      "55000/55000 [==============================] - 6s 110us/sample - loss: 0.2796 - accuracy: 0.9449 - val_loss: 0.4118 - val_accuracy: 0.8988\n",
      "Epoch 39/50\n",
      "55000/55000 [==============================] - 6s 108us/sample - loss: 0.2773 - accuracy: 0.9454 - val_loss: 0.4148 - val_accuracy: 0.8972\n",
      "Epoch 40/50\n",
      "55000/55000 [==============================] - 6s 110us/sample - loss: 0.2760 - accuracy: 0.9457 - val_loss: 0.4122 - val_accuracy: 0.9014\n",
      "Epoch 41/50\n",
      "55000/55000 [==============================] - 6s 109us/sample - loss: 0.2746 - accuracy: 0.9471 - val_loss: 0.4144 - val_accuracy: 0.9004\n",
      "Epoch 42/50\n",
      "55000/55000 [==============================] - 6s 109us/sample - loss: 0.2727 - accuracy: 0.9480 - val_loss: 0.4131 - val_accuracy: 0.9024\n",
      "Epoch 43/50\n",
      "55000/55000 [==============================] - 6s 109us/sample - loss: 0.2714 - accuracy: 0.9485 - val_loss: 0.4156 - val_accuracy: 0.8976\n",
      "Epoch 44/50\n",
      "55000/55000 [==============================] - 6s 108us/sample - loss: 0.2703 - accuracy: 0.9491 - val_loss: 0.4183 - val_accuracy: 0.9000\n",
      "Epoch 45/50\n",
      "55000/55000 [==============================] - 6s 111us/sample - loss: 0.2692 - accuracy: 0.9498 - val_loss: 0.4167 - val_accuracy: 0.8994\n",
      "Epoch 46/50\n",
      "55000/55000 [==============================] - 6s 105us/sample - loss: 0.2682 - accuracy: 0.9502 - val_loss: 0.4146 - val_accuracy: 0.9016\n",
      "Epoch 47/50\n",
      "55000/55000 [==============================] - 6s 105us/sample - loss: 0.2671 - accuracy: 0.9504 - val_loss: 0.4180 - val_accuracy: 0.8988\n",
      "Epoch 48/50\n",
      "55000/55000 [==============================] - 6s 106us/sample - loss: 0.2665 - accuracy: 0.9506 - val_loss: 0.4161 - val_accuracy: 0.8988\n",
      "Epoch 49/50\n",
      "55000/55000 [==============================] - 6s 105us/sample - loss: 0.2658 - accuracy: 0.9513 - val_loss: 0.4185 - val_accuracy: 0.9016\n",
      "Epoch 50/50\n",
      "55000/55000 [==============================] - 6s 108us/sample - loss: 0.2649 - accuracy: 0.9516 - val_loss: 0.4164 - val_accuracy: 0.8998\n"
     ]
    }
   ],
   "source": [
    "callback = tf.keras.callbacks.LearningRateScheduler(scheduler)\n",
    "history = model.fit(X_train,y_train,epochs = 50, callbacks=[callback], validation_data=(X_valid,y_valid))"
   ]
  },
  {
   "cell_type": "code",
   "execution_count": 157,
   "metadata": {},
   "outputs": [
    {
     "data": {
      "image/png": "[encoded data removed]",
      "text/plain": [
       "<Figure size 576x360 with 1 Axes>"
      ]
     },
     "metadata": {
      "needs_background": "light"
     },
     "output_type": "display_data"
    }
   ],
   "source": [
    "pd.DataFrame(history.history).plot(figsize=(8,5))\n",
    "plt.grid(True)\n",
    "plt.gca().set_ylim(0,1)\n",
    "plt.show\n",
    "plt.savefig('learning_curve.pdf')"
   ]
  },
  {
   "cell_type": "code",
   "execution_count": 160,
   "metadata": {},
   "outputs": [
    {
     "data": {
      "image/png": "[encoded data removed]",
      "text/plain": [
       "<Figure size 576x360 with 1 Axes>"
      ]
     },
     "metadata": {
      "needs_background": "light"
     },
     "output_type": "display_data"
    }
   ],
   "source": [
    "pd.DataFrame(history.history)['lr'].plot(figsize=(8,5))\n",
    "plt.grid(True)\n",
    "plt.gca().set_ylim(0,0.001)\n",
    "plt.show\n",
    "plt.savefig('learning_rate.pdf')"
   ]
  },
  {
   "cell_type": "code",
   "execution_count": 153,
   "metadata": {},
   "outputs": [
    {
     "name": "stdout",
     "output_type": "stream",
     "text": [
      "[[5040    0   69   60    4    0  359    1    9    1]\n",
      " [   0 5407    1   27    7    0    1    0    1    0]\n",
      " [  47    0 4958   28  269    0  193    0    1    0]\n",
      " [  40    4   13 5286  108    0   46    0    2    0]\n",
      " [   2    1  195   91 5036    0  182    0    5    0]\n",
      " [   0    0    0    0    0 5507    0    0    0    0]\n",
      " [ 277    2  187   66  164    0 4810    0    1    0]\n",
      " [   0    0    0    0    0    0    0 5440    1   47]\n",
      " [   4    0    2    7    4    0    6    2 5485    0]\n",
      " [   0    1    0    0    0    0    0   83    1 5409]]\n",
      "[[  0   0  69  60   4   0 359   1   9   1]\n",
      " [  0   0   1  27   7   0   1   0   1   0]\n",
      " [ 47   0   0  28 269   0 193   0   1   0]\n",
      " [ 40   4  13   0 108   0  46   0   2   0]\n",
      " [  2   1 195  91   0   0 182   0   5   0]\n",
      " [  0   0   0   0   0   0   0   0   0   0]\n",
      " [277   2 187  66 164   0   0   0   1   0]\n",
      " [  0   0   0   0   0   0   0   0   1  47]\n",
      " [  4   0   2   7   4   0   6   2   0   0]\n",
      " [  0   1   0   0   0   0   0  83   1   0]]\n"
     ]
    }
   ],
   "source": [
    "y_pred = model.predict_classes(X_train)\n",
    "conf_train = confusion_matrix(y_train,y_pred)\n",
    "print(conf_train)\n",
    "print(np.tril(conf_train,-1)+np.triu(conf_train,1))"
   ]
  },
  {
   "cell_type": "code",
   "execution_count": 154,
   "metadata": {},
   "outputs": [
    {
     "data": {
      "text/plain": [
       "0.902400016784668"
      ]
     },
     "execution_count": 154,
     "metadata": {},
     "output_type": "execute_result"
    }
   ],
   "source": [
    "pd.DataFrame(history.history)['val_accuracy'].max()"
   ]
  },
  {
   "cell_type": "code",
   "execution_count": 155,
   "metadata": {},
   "outputs": [],
   "source": [
    "y_pred = model.predict_classes(X_test)"
   ]
  },
  {
   "cell_type": "code",
   "execution_count": 161,
   "metadata": {},
   "outputs": [
    {
     "data": {
      "image/png": "[encoded data removed]",
      "text/plain": [
       "<Figure size 432x288 with 1 Axes>"
      ]
     },
     "metadata": {
      "needs_background": "light"
     },
     "output_type": "display_data"
    }
   ],
   "source": [
    "df = pd.DataFrame(conf_test)\n",
    "fig, ax = plt.subplots()\n",
    "fig.patch.set_visible(False)\n",
    "ax.axis('off')\n",
    "ax.axis('tight')\n",
    "ax.table(cellText=df.values,rowLabels=np.arange(10),colLabels=np.arange(10),loc='center',cellLoc='center')\n",
    "fig.tight_layout()\n",
    "plt.savefig('conf_matr.pdf')"
   ]
  },
  {
   "cell_type": "code",
   "execution_count": null,
   "metadata": {},
   "outputs": [],
   "source": []
  }
 ],
 "metadata": {
  "kernelspec": {
   "display_name": "amath482",
   "language": "python",
   "name": "amath482"
  },
  "language_info": {
   "codemirror_mode": {
    "name": "ipython",
    "version": 3
   },
   "file_extension": ".py",
   "mimetype": "text/x-python",
   "name": "python",
   "nbconvert_exporter": "python",
   "pygments_lexer": "ipython3",
   "version": "3.7.6"
  }
 },
 "nbformat": 4,
 "nbformat_minor": 2
}
