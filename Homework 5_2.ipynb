{
 "cells": [
  {
   "cell_type": "code",
   "execution_count": 30,
   "metadata": {},
   "outputs": [],
   "source": [
    "import tensorflow as tf"
   ]
  },
  {
   "cell_type": "code",
   "execution_count": 31,
   "metadata": {},
   "outputs": [],
   "source": [
    "import numpy as np\n",
    "import matplotlib.pyplot as plt\n",
    "import pandas as pd\n",
    "from sklearn.metrics import confusion_matrix\n",
    "from sklearn.model_selection import train_test_split"
   ]
  },
  {
   "cell_type": "code",
   "execution_count": 32,
   "metadata": {},
   "outputs": [],
   "source": [
    "fashion_mnist = tf.keras.datasets.fashion_mnist\n",
    "(X_train_full, y_train_full), (X_test, y_test) = fashion_mnist.load_data()"
   ]
  },
  {
   "cell_type": "code",
   "execution_count": 33,
   "metadata": {},
   "outputs": [],
   "source": [
    "X_valid = X_train_full[:5000]/255.0\n",
    "y_valid = y_train_full[:5000]\n",
    "X_train = X_train_full[5000:]/255.0\n",
    "y_train = y_train_full[5000:]\n",
    "X_test = X_test/255.0\n",
    "\n",
    "\n",
    "X_valid = X_valid[...,np.newaxis]\n",
    "X_train = X_train[...,np.newaxis]\n",
    "X_test = X_test[...,np.newaxis]"
   ]
  },
  {
   "cell_type": "code",
   "execution_count": 34,
   "metadata": {},
   "outputs": [],
   "source": [
    "from functools import partial"
   ]
  },
  {
   "cell_type": "code",
   "execution_count": 35,
   "metadata": {},
   "outputs": [],
   "source": [
    "my_dense_layer = partial(tf.keras.layers.Dense, activation=\"tanh\", kernel_regularizer=tf.keras.regularizers.l2(0.001))\n",
    "my_conv_layer = partial(tf.keras.layers.Conv2D, activation=\"tanh\",padding=\"valid\")"
   ]
  },
  {
   "cell_type": "code",
   "execution_count": 36,
   "metadata": {},
   "outputs": [],
   "source": [
    "model = tf.keras.models.Sequential([\n",
    "    my_conv_layer(128,5,input_shape=[28,28,1]),\n",
    "    tf.keras.layers.MaxPool2D(pool_size=(3,3),strides=(2,2)),\n",
    "    my_conv_layer(156,3),\n",
    "    tf.keras.layers.MaxPool2D(pool_size=(3,3),strides=(2,2)),\n",
    "    my_conv_layer(156,3),\n",
    "    tf.keras.layers.Flatten(),\n",
    "    my_dense_layer(84, activation=None),\n",
    "    tf.keras.layers.PReLU(),\n",
    "    my_dense_layer(84, activation=None),\n",
    "    tf.keras.layers.PReLU(),\n",
    "    my_dense_layer(10,activation = \"softmax\")\n",
    "])"
   ]
  },
  {
   "cell_type": "code",
   "execution_count": 37,
   "metadata": {},
   "outputs": [],
   "source": [
    "def scheduler(epoch):\n",
    "    if epoch>5:\n",
    "        return 0.0005\n",
    "    else:\n",
    "        return 0.0005*tf.math.exp(0.2*(5-epoch))"
   ]
  },
  {
   "cell_type": "code",
   "execution_count": 38,
   "metadata": {},
   "outputs": [],
   "source": [
    "model.compile(loss=\"sparse_categorical_crossentropy\",\n",
    "              optimizer=tf.keras.optimizers.Adam(learning_rate=0.0001),\n",
    "              metrics=[\"accuracy\"])"
   ]
  },
  {
   "cell_type": "code",
   "execution_count": 39,
   "metadata": {
    "scrolled": false
   },
   "outputs": [
    {
     "name": "stdout",
     "output_type": "stream",
     "text": [
      "Train on 55000 samples, validate on 5000 samples\n",
      "Epoch 1/15\n",
      "55000/55000 [==============================] - 72s 1ms/sample - loss: 0.6231 - accuracy: 0.8152 - val_loss: 0.4588 - val_accuracy: 0.8644\n",
      "Epoch 2/15\n",
      "55000/55000 [==============================] - 71s 1ms/sample - loss: 0.4109 - accuracy: 0.8735 - val_loss: 0.3917 - val_accuracy: 0.8776\n",
      "Epoch 3/15\n",
      "55000/55000 [==============================] - 73s 1ms/sample - loss: 0.3548 - accuracy: 0.8895 - val_loss: 0.3750 - val_accuracy: 0.8790\n",
      "Epoch 4/15\n",
      "55000/55000 [==============================] - 73s 1ms/sample - loss: 0.3166 - accuracy: 0.9019 - val_loss: 0.3201 - val_accuracy: 0.8974\n",
      "Epoch 5/15\n",
      "55000/55000 [==============================] - 71s 1ms/sample - loss: 0.2839 - accuracy: 0.9131 - val_loss: 0.3035 - val_accuracy: 0.9034\n",
      "Epoch 6/15\n",
      "55000/55000 [==============================] - 68s 1ms/sample - loss: 0.2564 - accuracy: 0.9230 - val_loss: 0.2975 - val_accuracy: 0.9072\n",
      "Epoch 7/15\n",
      "55000/55000 [==============================] - 73s 1ms/sample - loss: 0.2407 - accuracy: 0.9280 - val_loss: 0.2980 - val_accuracy: 0.9098\n",
      "Epoch 8/15\n",
      "55000/55000 [==============================] - 68s 1ms/sample - loss: 0.2268 - accuracy: 0.9337 - val_loss: 0.3097 - val_accuracy: 0.9064\n",
      "Epoch 9/15\n",
      "55000/55000 [==============================] - 67s 1ms/sample - loss: 0.2156 - accuracy: 0.9381 - val_loss: 0.2964 - val_accuracy: 0.9102\n",
      "Epoch 10/15\n",
      "55000/55000 [==============================] - 67s 1ms/sample - loss: 0.2043 - accuracy: 0.9430 - val_loss: 0.2913 - val_accuracy: 0.9098\n",
      "Epoch 11/15\n",
      "55000/55000 [==============================] - 68s 1ms/sample - loss: 0.1905 - accuracy: 0.9478 - val_loss: 0.2972 - val_accuracy: 0.9102\n",
      "Epoch 12/15\n",
      "55000/55000 [==============================] - 68s 1ms/sample - loss: 0.1830 - accuracy: 0.9514 - val_loss: 0.2981 - val_accuracy: 0.9106\n",
      "Epoch 13/15\n",
      "55000/55000 [==============================] - 68s 1ms/sample - loss: 0.1721 - accuracy: 0.9557 - val_loss: 0.2998 - val_accuracy: 0.9144\n",
      "Epoch 14/15\n",
      "55000/55000 [==============================] - 71s 1ms/sample - loss: 0.1636 - accuracy: 0.9580 - val_loss: 0.3007 - val_accuracy: 0.9106\n",
      "Epoch 15/15\n",
      "55000/55000 [==============================] - 75s 1ms/sample - loss: 0.1559 - accuracy: 0.9621 - val_loss: 0.3140 - val_accuracy: 0.9106\n"
     ]
    }
   ],
   "source": [
    "callback = tf.keras.callbacks.LearningRateScheduler(scheduler)\n",
    "history = model.fit(X_train,y_train,epochs = 15, callbacks=[callback], validation_data=(X_valid,y_valid))"
   ]
  },
  {
   "cell_type": "code",
   "execution_count": 48,
   "metadata": {},
   "outputs": [
    {
     "data": {
      "image/png": "[encoded data removed]",
      "text/plain": [
       "<Figure size 576x360 with 1 Axes>"
      ]
     },
     "metadata": {
      "needs_background": "light"
     },
     "output_type": "display_data"
    }
   ],
   "source": [
    "pd.DataFrame(history.history).plot(figsize=(8,5))\n",
    "plt.grid(True)\n",
    "plt.gca().set_ylim(0,1)\n",
    "plt.show\n",
    "plt.savefig('learning.pdf')"
   ]
  },
  {
   "cell_type": "code",
   "execution_count": 41,
   "metadata": {},
   "outputs": [
    {
     "name": "stdout",
     "output_type": "stream",
     "text": [
      "      0     1     2     3     4     5     6     7     8     9\n",
      "0  5347     0    45    29     3     0   115     0     4     0\n",
      "1     0  5416     1    20     5     0     0     0     2     0\n",
      "2    57     0  5274    22   100     0    43     0     0     0\n",
      "3    32     1     1  5406    43     0    16     0     0     0\n",
      "4     3     0    86    31  5321     0    68     0     3     0\n",
      "5     0     0     0     0     0  5484     0     7     1    15\n",
      "6   428     0   125    54   118     0  4779     0     3     0\n",
      "7     0     0     0     0     0     2     0  5441     0    45\n",
      "8     7     1     1     0     5     0     2     0  5493     1\n",
      "9     0     0     0     0     0     2     0    61     0  5431\n",
      "[[  0   0  45  29   3   0 115   0   4   0]\n",
      " [  0   0   1  20   5   0   0   0   2   0]\n",
      " [ 57   0   0  22 100   0  43   0   0   0]\n",
      " [ 32   1   1   0  43   0  16   0   0   0]\n",
      " [  3   0  86  31   0   0  68   0   3   0]\n",
      " [  0   0   0   0   0   0   0   7   1  15]\n",
      " [428   0 125  54 118   0   0   0   3   0]\n",
      " [  0   0   0   0   0   2   0   0   0  45]\n",
      " [  7   1   1   0   5   0   2   0   0   1]\n",
      " [  0   0   0   0   0   2   0  61   0   0]]\n"
     ]
    }
   ],
   "source": [
    "y_pred = model.predict_classes(X_train)\n",
    "conf_train = confusion_matrix(y_train,y_pred)\n",
    "print(pd.DataFrame(conf_train))"
   ]
  },
  {
   "cell_type": "code",
   "execution_count": 42,
   "metadata": {},
   "outputs": [
    {
     "data": {
      "text/plain": [
       "0.9143999814987183"
      ]
     },
     "execution_count": 42,
     "metadata": {},
     "output_type": "execute_result"
    }
   ],
   "source": [
    "pd.DataFrame(history.history)['val_accuracy'].max()"
   ]
  },
  {
   "cell_type": "code",
   "execution_count": 44,
   "metadata": {},
   "outputs": [
    {
     "name": "stdout",
     "output_type": "stream",
     "text": [
      "10000/10000 [==============================] - 3s 334us/sample - loss: 0.3263 - accuracy: 0.9120\n"
     ]
    },
    {
     "data": {
      "text/plain": [
       "[0.32626955037117006, 0.912]"
      ]
     },
     "execution_count": 44,
     "metadata": {},
     "output_type": "execute_result"
    }
   ],
   "source": [
    "model.evaluate(X_test,y_test)"
   ]
  },
  {
   "cell_type": "code",
   "execution_count": 47,
   "metadata": {},
   "outputs": [
    {
     "data": {
      "image/png": "[encoded data removed]",
      "text/plain": [
       "<Figure size 432x288 with 1 Axes>"
      ]
     },
     "metadata": {
      "needs_background": "light"
     },
     "output_type": "display_data"
    }
   ],
   "source": [
    "y_pred = model.predict_classes(X_test)\n",
    "conf_test = confusion_matrix(y_test,y_pred)\n",
    "df = pd.DataFrame(conf_test)\n",
    "fig, ax = plt.subplots()\n",
    "fig.patch.set_visible(False)\n",
    "ax.axis('off')\n",
    "ax.axis('tight')\n",
    "ax.table(cellText=df.values,rowLabels=np.arange(10),colLabels=np.arange(10),loc='center',cellLoc='center')\n",
    "fig.tight_layout()\n",
    "plt.savefig('conf_matr.pdf')"
   ]
  },
  {
   "cell_type": "code",
   "execution_count": null,
   "metadata": {},
   "outputs": [],
   "source": []
  }
 ],
 "metadata": {
  "kernelspec": {
   "display_name": "amath482",
   "language": "python",
   "name": "amath482"
  },
  "language_info": {
   "codemirror_mode": {
    "name": "ipython",
    "version": 3
   },
   "file_extension": ".py",
   "mimetype": "text/x-python",
   "name": "python",
   "nbconvert_exporter": "python",
   "pygments_lexer": "ipython3",
   "version": "3.7.6"
  }
 },
 "nbformat": 4,
 "nbformat_minor": 2
}
